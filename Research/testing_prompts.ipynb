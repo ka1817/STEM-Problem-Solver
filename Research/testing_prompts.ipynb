{
 "cells": [
  {
   "cell_type": "code",
   "execution_count": 1,
   "metadata": {},
   "outputs": [
    {
     "data": {
      "text/plain": [
       "True"
      ]
     },
     "execution_count": 1,
     "metadata": {},
     "output_type": "execute_result"
    }
   ],
   "source": [
    "from dotenv import load_dotenv\n",
    "load_dotenv()"
   ]
  },
  {
   "cell_type": "markdown",
   "metadata": {},
   "source": [
    "## Setting The Configurations"
   ]
  },
  {
   "cell_type": "code",
   "execution_count": 2,
   "metadata": {},
   "outputs": [],
   "source": [
    "import os \n",
    "os.environ[\"GROQ_API_KEY\"]=os.getenv(\"GROQ_API_KEY\")\n",
    "os.environ[\"LANGSMITH_TRACING_V2\"]=\"true\"\n",
    "os.environ[\"LANGSMITH_ENDPOINT\"]=\"https://api.smith.langchain.com\"\n",
    "os.environ[\"LANGCHAIN_API_KEY\"]=os.getenv(\"LANGCHAIN_API_KEY\")\n",
    "os.environ[\"LANGSMITH_PROJECT\"]=\"STEM Problem Solver\""
   ]
  },
  {
   "cell_type": "code",
   "execution_count": 3,
   "metadata": {},
   "outputs": [],
   "source": [
    "from langchain_groq import ChatGroq\n",
    "from langchain.chains import LLMChain\n",
    "from langchain.chains import RetrievalQA"
   ]
  },
  {
   "cell_type": "markdown",
   "metadata": {},
   "source": [
    "## Loading The Model DeepSeek R1"
   ]
  },
  {
   "cell_type": "code",
   "execution_count": 5,
   "metadata": {},
   "outputs": [],
   "source": [
    "GROQ_API_KEY=os.getenv(\"GROQ_API_KEY\")\n",
    "llm=ChatGroq(api_key=GROQ_API_KEY,model_name=\"deepseek-r1-distill-qwen-32b\")"
   ]
  },
  {
   "cell_type": "markdown",
   "metadata": {},
   "source": [
    "With out prompt test a math problem"
   ]
  },
  {
   "cell_type": "code",
   "execution_count": 7,
   "metadata": {},
   "outputs": [],
   "source": [
    "response=llm.invoke(\"what integral of x\")"
   ]
  },
  {
   "cell_type": "code",
   "execution_count": 11,
   "metadata": {},
   "outputs": [
    {
     "name": "stdout",
     "output_type": "stream",
     "text": [
      "<think>\n",
      "I need to find the integral of x with respect to x.\n",
      "\n",
      "I'll start by setting up the integral: ∫ x dx.\n",
      "\n",
      "To solve this, I'll increase the exponent of x by one, changing x¹ to x².\n",
      "\n",
      "Next, I'll divide by the new exponent, which gives me (1/2)x².\n",
      "\n",
      "Finally, I'll add the constant of integration, C, to account for all possible antiderivatives.\n",
      "\n",
      "So, the integral of x is (1/2)x² + C.\n",
      "</think>\n",
      "\n",
      "To find the **integral** of \\( x \\), we'll follow these steps:\n",
      "\n",
      "1. **Set up the integral:**\n",
      "   \n",
      "   \\[\n",
      "   \\int x \\, dx\n",
      "   \\]\n",
      "\n",
      "2. **Apply the power rule for integration:**\n",
      "   \n",
      "   The power rule states that:\n",
      "   \n",
      "   \\[\n",
      "   \\int x^n \\, dx = \\frac{x^{n+1}}{n+1} + C \\quad \\text{for} \\quad n \\neq -1\n",
      "   \\]\n",
      "   \n",
      "   In this case, \\( n = 1 \\).\n",
      "\n",
      "3. **Integrate using the power rule:**\n",
      "   \n",
      "   \\[\n",
      "   \\int x \\, dx = \\frac{x^{1+1}}{1+1} + C = \\frac{x^{2}}{2} + C\n",
      "   \\]\n",
      "\n",
      "4. **Write the final answer:**\n",
      "\n",
      "   \\[\n",
      "   \\boxed{\\frac{x^2}{2} + C}\n",
      "   \\]\n"
     ]
    }
   ],
   "source": [
    "print(response.content)"
   ]
  },
  {
   "cell_type": "markdown",
   "metadata": {},
   "source": [
    "with prompt testing"
   ]
  },
  {
   "cell_type": "code",
   "execution_count": 12,
   "metadata": {},
   "outputs": [],
   "source": [
    "from langchain.prompts import PromptTemplate\n",
    "\n",
    "# Define the best prompt template for structured, step-by-step problem solving\n",
    "prompt_template = PromptTemplate(\n",
    "    input_variables=[\"problem\"],\n",
    "    template=(\n",
    "        \"You are a highly knowledgeable and patient tutor specializing in solving math and physics problems step by step.\\n\\n\"\n",
    "        \"**Persona:** You are an expert tutor who explains concepts in a simple and structured way, ensuring clarity for students.\\n\"\n",
    "        \"**Context:** A student is struggling with a math or physics problem and needs a clear, detailed solution.\\n\"\n",
    "        \"**Format:** Provide a structured solution in the following format:\\n\"\n",
    "        \"1. **Understanding the Problem:** Briefly explain what the problem is asking.\\n\"\n",
    "        \"2. **Relevant Concepts:** Mention the key formulas or principles needed.\\n\"\n",
    "        \"3. **Step-by-Step Solution:** Solve the problem in detailed steps, explaining each part.\\n\"\n",
    "        \"4. **Final Answer:** Highlight the final solution with proper units.\\n\"\n",
    "        \"5. **Explanation & Insights:** Provide additional insights or alternative methods if applicable.\\n\\n\"\n",
    "        \"**Task:** Solve the following problem following the above structure:\\n\"\n",
    "        \"**Problem:** {problem}\\n\\n\"\n",
    "        \"Provide a detailed solution with clear explanations.\"\n",
    "    )\n",
    ")\n"
   ]
  },
  {
   "cell_type": "code",
   "execution_count": 13,
   "metadata": {},
   "outputs": [
    {
     "name": "stderr",
     "output_type": "stream",
     "text": [
      "C:\\Users\\saipr\\AppData\\Local\\Temp\\ipykernel_19924\\2427660581.py:1: LangChainDeprecationWarning: The class `LLMChain` was deprecated in LangChain 0.1.17 and will be removed in 1.0. Use :meth:`~RunnableSequence, e.g., `prompt | llm`` instead.\n",
      "  llm_chain=LLMChain(llm=llm,prompt=prompt_template)\n"
     ]
    }
   ],
   "source": [
    "llm_chain=LLMChain(llm=llm,prompt=prompt_template)"
   ]
  },
  {
   "cell_type": "code",
   "execution_count": 15,
   "metadata": {},
   "outputs": [],
   "source": [
    "problem=\"what is integral of x\"\n",
    "response=llm_chain.invoke({problem})"
   ]
  },
  {
   "cell_type": "code",
   "execution_count": 17,
   "metadata": {},
   "outputs": [
    {
     "name": "stdout",
     "output_type": "stream",
     "text": [
      "<think>\n",
      "Okay, I need to find the integral of x. Hmm, I remember that integrals are related to antiderivatives. So, I think I should recall the power rule for integration. The power rule says that the integral of x^n dx is (x^(n+1))/(n+1) + C, where C is the constant of integration. In this case, n is 1 because we're integrating x, which is the same as x^1.\n",
      "\n",
      "Applying the power rule, I'll increase the exponent by 1, which changes 1 to 2, and then divide by the new exponent. That should give me (x^2)/2. Don't forget to add the constant of integration, C, because the derivative of any constant is zero, so it doesn't affect the original function when differentiating.\n",
      "\n",
      "Wait, let me double-check. If I differentiate (x^2)/2, I should get x, right? Using the power rule for differentiation, the derivative of x^2 is 2x, and dividing by 2 gives x. That matches the original function I was integrating. So, I think I did that correctly.\n",
      "\n",
      "I also remember that the integral can represent the area under the curve of the function. For f(x) = x, the graph is a straight line, and the area under it from 0 to some point a would form a triangle. The area of a triangle is (base * height)/2, which in this case would be (a * a)/2 = a^2/2. That aligns with the integral I found, reinforcing that the solution is correct.\n",
      "\n",
      "So, putting it all together, the integral of x dx is (x^2)/2 plus a constant. I think I've got it.\n",
      "</think>\n",
      "\n",
      "**Solution:**\n",
      "\n",
      "1. **Understanding the Problem:** We need to compute the indefinite integral of the function f(x) = x.\n",
      "\n",
      "2. **Relevant Concepts:** The power rule for integration states that ∫x^n dx = (x^(n+1))/(n+1) + C, where C is the constant of integration.\n",
      "\n",
      "3. **Step-by-Step Solution:**\n",
      "   - Identify the function to integrate: f(x) = x.\n",
      "   - Recognize that x can be written as x^1.\n",
      "   - Apply the power rule: increase the exponent by 1, resulting in x^2, then divide by the new exponent.\n",
      "   - Add the constant of integration, C.\n",
      "\n",
      "4. **Final Answer:** The integral of x with respect to x is (x²)/2 + C.\n",
      "\n",
      "5. **Explanation & Insights:** The integral ∫x dx represents the family of antiderivatives of x, each differing by a constant C. This result can also be verified by differentiation, as d/dx [(x²)/2 + C] = x, confirming our solution. Additionally, geometrically, this integral corresponds to the area under the curve of f(x) = x, which forms a triangle whose area is (base * height)/2 = (x * x)/2 = x²/2.\n"
     ]
    }
   ],
   "source": [
    "print(response['text'])"
   ]
  },
  {
   "cell_type": "markdown",
   "metadata": {},
   "source": [
    "## Gemma2b Model"
   ]
  },
  {
   "cell_type": "code",
   "execution_count": 18,
   "metadata": {},
   "outputs": [],
   "source": [
    "GROQ_API_KEY=os.getenv(\"GROQ_API_KEY\")\n",
    "llm1=ChatGroq(api_key=GROQ_API_KEY,model_name=\"gemma2-9b-it\")"
   ]
  },
  {
   "cell_type": "code",
   "execution_count": 23,
   "metadata": {},
   "outputs": [],
   "source": [
    "response=llm1.invoke(\"what integral of x\")"
   ]
  },
  {
   "cell_type": "code",
   "execution_count": 24,
   "metadata": {},
   "outputs": [
    {
     "data": {
      "text/plain": [
       "\"The integral of x is:\\n\\n**(1/2)x² + C**\\n\\n**Explanation:**\\n\\n* **Power Rule of Integration:** The power rule states that the integral of x^n is (x^(n+1))/(n+1) + C, where C is the constant of integration.\\n* **Applying the Power Rule:** In this case, n = 1.  Therefore, the integral of x (which is x^1) is (x^(1+1))/(1+1) + C, which simplifies to (1/2)x² + C.\\n\\n\\nLet me know if you'd like to see the integral of a different function!\\n\""
      ]
     },
     "execution_count": 24,
     "metadata": {},
     "output_type": "execute_result"
    }
   ],
   "source": [
    "response.content"
   ]
  },
  {
   "cell_type": "markdown",
   "metadata": {},
   "source": [
    "with prompt"
   ]
  },
  {
   "cell_type": "code",
   "execution_count": 25,
   "metadata": {},
   "outputs": [],
   "source": [
    "llm_chain1=LLMChain(llm=llm1,prompt=prompt_template)"
   ]
  },
  {
   "cell_type": "code",
   "execution_count": 27,
   "metadata": {},
   "outputs": [],
   "source": [
    "problem=\"what is integral of x\"\n",
    "response=llm_chain1.invoke({problem})"
   ]
  },
  {
   "cell_type": "code",
   "execution_count": 29,
   "metadata": {},
   "outputs": [
    {
     "name": "stdout",
     "output_type": "stream",
     "text": [
      "##  Finding the Integral of x\n",
      "\n",
      "**1. Understanding the Problem:**\n",
      "\n",
      "The problem asks us to find the indefinite integral of the function  *f(x) = x*.  In simpler terms, we want to find a function whose derivative is *x*.\n",
      "\n",
      "**2. Relevant Concepts:**\n",
      "\n",
      "* **Indefinite Integral:** The indefinite integral of a function represents a family of functions whose derivative is the original function. It is denoted by  ∫*f(x) dx*.\n",
      "* **Power Rule of Integration:**  This rule states that the integral of *x<sup>n</sup>* is ( *x<sup>n+1</sup>* ) / ( *n+1* ) + C, where *n* is any real number except -1, and C is the constant of integration.\n",
      "\n",
      "**3. Step-by-Step Solution:**\n",
      "\n",
      "Applying the power rule to our problem:\n",
      "\n",
      "∫ *x dx*  = ∫ *x<sup>1</sup> dx* \n",
      "\n",
      "              = ( *x<sup>1+1</sup>* ) / ( *1+1* ) + C\n",
      "\n",
      "              =  ( *x<sup>2</sup>* ) / 2 + C\n",
      "\n",
      "**4. Final Answer:**\n",
      "\n",
      "The integral of *x* is ( *x<sup>2</sup>* ) / 2 + C, where C is the constant of integration.\n",
      "\n",
      "**5. Explanation & Insights:**\n",
      "\n",
      "* The constant of integration, C, is added because the derivative of a constant is always zero. This means that there are infinitely many functions whose derivative is *x*, all differing by a constant term.\n",
      "*  Understanding the power rule is fundamental for integrating polynomial functions. You can apply it to terms like *x<sup>3</sup>*, *x<sup>4</sup>*, etc.,  just remember to adjust the exponent and the denominator accordingly.\n",
      "\n",
      "\n",
      "Let me know if you have any other problems you'd like help with!\n",
      "\n"
     ]
    }
   ],
   "source": [
    "print(response['text'])"
   ]
  },
  {
   "cell_type": "markdown",
   "metadata": {},
   "source": [
    "## Few Shot Prompting"
   ]
  },
  {
   "cell_type": "code",
   "execution_count": 30,
   "metadata": {},
   "outputs": [],
   "source": [
    "from langchain.prompts import PromptTemplate\n",
    "\n",
    "# Define the Few-Shot Prompt Template\n",
    "prompt_template = PromptTemplate(\n",
    "    input_variables=[\"problem\"],\n",
    "    template=(\n",
    "        \"You are a highly skilled tutor who provides step-by-step solutions for math and physics problems.\\n\\n\"\n",
    "        \"**Instructions:** Follow the structured approach below to solve the problem.\\n\"\n",
    "        \"1. **Understanding the Problem**\\n\"\n",
    "        \"2. **Relevant Concepts**\\n\"\n",
    "        \"3. **Step-by-Step Solution**\\n\"\n",
    "        \"4. **Final Answer**\\n\"\n",
    "        \"5. **Explanation & Insights**\\n\\n\"\n",
    "        \"---\\n\\n\"\n",
    "        \"**Example 1:**\\n\"\n",
    "        \"**Problem:** Find the integral of x.\\n\\n\"\n",
    "        \"**Solution:**\\n\"\n",
    "        \"1. **Understanding the Problem:** We need to compute the indefinite integral of f(x) = x.\\n\"\n",
    "        \"2. **Relevant Concepts:** The power rule for integration states that ∫x^n dx = (x^(n+1))/(n+1) + C.\\n\"\n",
    "        \"3. **Step-by-Step Solution:**\\n\"\n",
    "        \"   - Identify the function to integrate: f(x) = x.\\n\"\n",
    "        \"   - Recognize that x can be written as x^1.\\n\"\n",
    "        \"   - Apply the power rule: increase the exponent by 1, resulting in x^2, then divide by the new exponent.\\n\"\n",
    "        \"   - Add the constant of integration, C.\\n\"\n",
    "        \"4. **Final Answer:** (x²)/2 + C.\\n\"\n",
    "        \"5. **Explanation & Insights:** The integral ∫x dx represents an antiderivative of x, verified by differentiation.\\n\\n\"\n",
    "        \"---\\n\\n\"\n",
    "        \"**Example 2:**\\n\"\n",
    "        \"**Problem:** Find the derivative of sin(x) * e^x.\\n\\n\"\n",
    "        \"**Solution:**\\n\"\n",
    "        \"1. **Understanding the Problem:** We need to differentiate f(x) = sin(x) * e^x.\\n\"\n",
    "        \"2. **Relevant Concepts:** The product rule states that (uv)' = u'v + uv'.\\n\"\n",
    "        \"3. **Step-by-Step Solution:**\\n\"\n",
    "        \"   - Let u = sin(x) and v = e^x.\\n\"\n",
    "        \"   - Compute u' = cos(x) and v' = e^x.\\n\"\n",
    "        \"   - Apply the product rule: (sin(x) * e^x)' = cos(x) * e^x + sin(x) * e^x.\\n\"\n",
    "        \"4. **Final Answer:** cos(x) * e^x + sin(x) * e^x.\\n\"\n",
    "        \"5. **Explanation & Insights:** This derivative represents the rate of change of sin(x) * e^x and follows directly from the product rule.\\n\\n\"\n",
    "        \"---\\n\\n\"\n",
    "        \"**Now, solve the following problem using the same structured approach:**\\n\"\n",
    "        \"**Problem:** {problem}\\n\\n\"\n",
    "        \"**Solution:**\"\n",
    "    )\n",
    ")\n"
   ]
  },
  {
   "cell_type": "code",
   "execution_count": 31,
   "metadata": {},
   "outputs": [],
   "source": [
    "llm_chain2=LLMChain(llm=llm1,prompt=prompt_template)"
   ]
  },
  {
   "cell_type": "code",
   "execution_count": 36,
   "metadata": {},
   "outputs": [],
   "source": [
    "problem=\"what is the difference between PDF and CDF and explain with example\"\n",
    "response=llm_chain2.invoke({problem})"
   ]
  },
  {
   "cell_type": "code",
   "execution_count": 37,
   "metadata": {},
   "outputs": [
    {
     "name": "stdout",
     "output_type": "stream",
     "text": [
      "##  What's the Difference Between PDF and CDF?\n",
      "\n",
      "**1. Understanding the Problem:**\n",
      "\n",
      "We need to differentiate between Probability Density Function (PDF) and Cumulative Distribution Function (CDF) and provide illustrative examples.\n",
      "\n",
      "**2. Relevant Concepts:**\n",
      "\n",
      "* **Probability Density Function (PDF):**  A function that describes the relative likelihood for a continuous random variable to take on a given value.  The area under the PDF curve represents the probability of the variable falling within a specific range.\n",
      "\n",
      "* **Cumulative Distribution Function (CDF):** A function that gives the probability that a random variable takes on a value less than or equal to a given value. Essentially, it's the integral of the PDF.\n",
      "\n",
      "**3. Step-by-Step Solution:**\n",
      "\n",
      "* **PDF:**\n",
      "    - Think of it like a height map for a continuous random variable.\n",
      "    - The height at a particular point represents the probability density at that point.\n",
      "    - The area under the curve between two points represents the probability of the variable falling within that range.\n",
      "\n",
      "* **CDF:**\n",
      "    - Think of it as a running total of probabilities.\n",
      "    - It tells you the probability that the variable is less than or equal to a specific value.\n",
      "    - It increases monotonically from 0 to 1 as the input value increases.\n",
      "\n",
      "**4. Final Answer:**\n",
      "\n",
      "PDF describes the probability density at each point, while CDF describes the cumulative probability up to a given point.\n",
      "\n",
      "**5. Explanation & Insights:**\n",
      "\n",
      "* **Example:** Imagine the height of adult women.\n",
      "    - The PDF would show the distribution of heights, with higher density around the average height and lower density for extreme heights.\n",
      "    - The CDF would tell you the probability of a randomly selected woman being shorter than 5'4\", 5'6\", or any other height.\n",
      "\n",
      "* **Key Takeaway:**  PDF focuses on the probability *density* at each point, while CDF focuses on the *cumulative* probability up to a point.\n",
      "\n",
      "\n",
      "\n"
     ]
    }
   ],
   "source": [
    "print(response['text'])"
   ]
  },
  {
   "cell_type": "markdown",
   "metadata": {},
   "source": [
    "Using Fewshot prompttemplate"
   ]
  },
  {
   "cell_type": "code",
   "execution_count": 38,
   "metadata": {},
   "outputs": [],
   "source": [
    "from langchain.prompts import FewShotPromptTemplate, PromptTemplate\n",
    "\n",
    "# Define the examples\n",
    "examples = [\n",
    "    {\n",
    "        \"problem\": \"Find the integral of x.\",\n",
    "        \"solution\": (\n",
    "            \"1. **Understanding the Problem:** Compute the indefinite integral of f(x) = x.\\n\"\n",
    "            \"2. **Relevant Concepts:** Use the power rule for integration: ∫x^n dx = (x^(n+1))/(n+1) + C.\\n\"\n",
    "            \"3. **Step-by-Step Solution:**\\n\"\n",
    "            \"   - Recognize x as x^1.\\n\"\n",
    "            \"   - Apply the power rule: increase exponent by 1, giving x², then divide by the new exponent.\\n\"\n",
    "            \"   - Add the constant of integration, C.\\n\"\n",
    "            \"4. **Final Answer:** (x²)/2 + C.\\n\"\n",
    "            \"5. **Explanation & Insights:** The result represents the family of antiderivatives of x and can be verified by differentiation.\"\n",
    "        )\n",
    "    },\n",
    "    {\n",
    "        \"problem\": \"Find the derivative of sin(x) * e^x.\",\n",
    "        \"solution\": (\n",
    "            \"1. **Understanding the Problem:** Differentiate f(x) = sin(x) * e^x.\\n\"\n",
    "            \"2. **Relevant Concepts:** Use the product rule: (uv)' = u'v + uv'.\\n\"\n",
    "            \"3. **Step-by-Step Solution:**\\n\"\n",
    "            \"   - Let u = sin(x) and v = e^x.\\n\"\n",
    "            \"   - Compute u' = cos(x) and v' = e^x.\\n\"\n",
    "            \"   - Apply the product rule: (sin(x) * e^x)' = cos(x) * e^x + sin(x) * e^x.\\n\"\n",
    "            \"4. **Final Answer:** cos(x) * e^x + sin(x) * e^x.\\n\"\n",
    "            \"5. **Explanation & Insights:** The result follows directly from the product rule and confirms how differentiation applies to composite functions.\"\n",
    "        )\n",
    "    }\n",
    "]\n",
    "\n",
    "# Define the example formatter\n",
    "example_prompt = PromptTemplate(\n",
    "    input_variables=[\"problem\", \"solution\"],\n",
    "    template=\"**Problem:** {problem}\\n\\n**Solution:**\\n{solution}\\n\"\n",
    ")\n",
    "\n",
    "# Define the Few-Shot Prompt Template\n",
    "few_shot_prompt = FewShotPromptTemplate(\n",
    "    examples=examples,\n",
    "    example_prompt=example_prompt,\n",
    "    prefix=(\n",
    "        \"You are a highly knowledgeable math and physics tutor who solves problems step by step.\\n\\n\"\n",
    "        \"Follow this structured format:\\n\"\n",
    "        \"1. **Understanding the Problem:** Identify what needs to be solved.\\n\"\n",
    "        \"2. **Relevant Concepts:** Mention key formulas or principles.\\n\"\n",
    "        \"3. **Step-by-Step Solution:** Show each step clearly.\\n\"\n",
    "        \"4. **Final Answer:** Highlight the correct solution.\\n\"\n",
    "        \"5. **Explanation & Insights:** Provide additional insights or alternative methods.\\n\\n\"\n",
    "        \"---\\n\\n\"\n",
    "        \"Here are some solved examples:\"\n",
    "    ),\n",
    "    suffix=\"\\n---\\n\\n**Now, solve the following problem:**\\n**Problem:** {problem}\\n\\n**Solution:**\",\n",
    "    input_variables=[\"problem\"]\n",
    ")\n"
   ]
  },
  {
   "cell_type": "code",
   "execution_count": 39,
   "metadata": {},
   "outputs": [],
   "source": [
    "llm_chain3=LLMChain(llm=llm1,prompt=prompt_template)"
   ]
  },
  {
   "cell_type": "code",
   "execution_count": 40,
   "metadata": {},
   "outputs": [],
   "source": [
    "problem=\"what is the difference between PDF and CDF and explain with example\"\n",
    "response=llm_chain3.invoke({problem})"
   ]
  },
  {
   "cell_type": "code",
   "execution_count": 42,
   "metadata": {},
   "outputs": [
    {
     "name": "stdout",
     "output_type": "stream",
     "text": [
      "##  Understanding the Difference Between PDF and CDF\n",
      "\n",
      "**1. Understanding the Problem:**\n",
      "\n",
      "We need to distinguish between two key concepts in probability and statistics: Probability Density Function (PDF) and Cumulative Distribution Function (CDF).\n",
      "\n",
      "**2. Relevant Concepts:**\n",
      "\n",
      "* **Probability Density Function (PDF):**  A function that describes the relative likelihood for a continuous random variable to take on a given value. The PDF is not a probability itself; rather, the probability of a random variable falling within a given range is found by integrating the PDF over that range.\n",
      "\n",
      "* **Cumulative Distribution Function (CDF):** A function that describes the probability that a continuous random variable will take on a value less than or equal to a given value.  \n",
      "\n",
      "**3. Step-by-Step Solution:**\n",
      "\n",
      "Let's imagine a continuous random variable, say the height of adult women.\n",
      "\n",
      "* **PDF:**  The PDF would show the probability density for different heights. It would peak at the most common height and taper off as you move away from that peak. The area under the entire PDF curve would equal 1.\n",
      "\n",
      "* **CDF:** The CDF would show the cumulative probability of a woman being of a certain height or shorter. For example, the CDF at a height of 5'4\" would represent the probability that a randomly selected woman is 5'4\" or shorter.\n",
      "\n",
      "**4. Final Answer:**\n",
      "\n",
      "* **PDF:**  Describes the probability *density* at a specific value.\n",
      "* **CDF:**  Describes the *cumulative* probability of a value being less than or equal to a given value.\n",
      "\n",
      "**5. Explanation & Insights:**\n",
      "\n",
      "*  The PDF and CDF are complementary to each other. They provide different but related perspectives on the distribution of a continuous random variable.\n",
      "\n",
      "*  Imagine the PDF as a landscape where the height represents probability density.  The CDF is then a path that tracks the cumulative probability as you ascend the landscape.\n",
      "\n",
      "*  These concepts are fundamental in probability, statistics, and data analysis, allowing us to understand and model the behavior of continuous variables.\n",
      "\n",
      "\n",
      "\n",
      "\n"
     ]
    }
   ],
   "source": [
    "print(response['text'])"
   ]
  },
  {
   "cell_type": "code",
   "execution_count": 43,
   "metadata": {},
   "outputs": [],
   "source": [
    "problem=\"what is momentum\"\n",
    "response=llm_chain3.invoke({problem})"
   ]
  },
  {
   "cell_type": "code",
   "execution_count": 44,
   "metadata": {},
   "outputs": [
    {
     "name": "stdout",
     "output_type": "stream",
     "text": [
      "##  Problem: What is momentum?\n",
      "\n",
      "**1. Understanding the Problem:** \n",
      "We need to define the physical quantity known as momentum. \n",
      "\n",
      "**2. Relevant Concepts:**\n",
      "* **Momentum** is a vector quantity that describes the motion of an object. It depends on both the object's mass and its velocity.\n",
      "* **Mass (m):** A measure of an object's resistance to changes in motion.\n",
      "* **Velocity (v):** The rate of change of an object's position with respect to time, including both magnitude and direction.\n",
      "\n",
      "**3. Step-by-Step Solution:**\n",
      "   - Momentum (p) is calculated by multiplying an object's mass (m) by its velocity (v).\n",
      "   - Mathematically:  p = m * v\n",
      "\n",
      "**4. Final Answer:**\n",
      "Momentum (p) = mass (m) * velocity (v).\n",
      "\n",
      "**5. Explanation & Insights:**\n",
      "- Momentum is a fundamental concept in physics, particularly in the study of collisions and interactions between objects. \n",
      "- A heavier object moving at the same speed as a lighter object will have greater momentum. \n",
      "- Similarly, an object moving at a faster speed will have greater momentum than the same object moving slower.\n",
      "- The direction of momentum is the same as the direction of the object's velocity.\n",
      "-  The conservation of momentum states that the total momentum of a closed system remains constant in the absence of external forces. This principle is crucial for understanding how objects move and interact with each other.\n",
      "\n",
      "\n",
      "\n",
      "Let me know if you have any other questions or would like to explore specific examples of momentum calculations!\n",
      "\n"
     ]
    }
   ],
   "source": [
    "print(response['text'])"
   ]
  },
  {
   "cell_type": "markdown",
   "metadata": {},
   "source": [
    "## Optimized Prompt"
   ]
  },
  {
   "cell_type": "code",
   "execution_count": 45,
   "metadata": {},
   "outputs": [],
   "source": [
    "from langchain.prompts import PromptTemplate\n",
    "\n",
    "# Define the best-optimized prompt for structured problem-solving\n",
    "optimized_prompt = PromptTemplate(\n",
    "    input_variables=[\"problem\"],\n",
    "    template=(\n",
    "        \"You are an advanced AI tutor specializing in solving **math and physics problems** step by step. \"\n",
    "        \"Your goal is to **guide students logically**, ensuring they **understand every step** and its relevance. \"\n",
    "        \"Think like a **patient teacher** who explains concepts with clarity.\\n\\n\"\n",
    "\n",
    "        \"**Guidelines for solving problems:**\\n\"\n",
    "        \"1️⃣ **Understanding the Problem:**\\n\"\n",
    "        \"   - Restate the problem in simple terms.\\n\"\n",
    "        \"   - Identify what is given and what needs to be found.\\n\\n\"\n",
    "\n",
    "        \"2️⃣ **Relevant Concepts & Formulas:**\\n\"\n",
    "        \"   - List the key principles, equations, or theorems needed to solve the problem.\\n\"\n",
    "        \"   - Explain why they are relevant.\\n\\n\"\n",
    "\n",
    "        \"3️⃣ **Step-by-Step Solution:**\\n\"\n",
    "        \"   - Break down the solution into small, logical steps.\\n\"\n",
    "        \"   - Show calculations with proper notation.\\n\"\n",
    "        \"   - Explain **each transformation, substitution, or simplification** clearly.\\n\\n\"\n",
    "\n",
    "        \"4️⃣ **Final Answer:**\\n\"\n",
    "        \"   - Box or highlight the final result.\\n\"\n",
    "        \"   - Include units where applicable.\\n\\n\"\n",
    "\n",
    "        \"5️⃣ **Verification & Insights:**\\n\"\n",
    "        \"   - Verify the answer using an alternative method (if possible).\\n\"\n",
    "        \"   - Provide a real-world analogy or intuition behind the result.\\n\\n\"\n",
    "\n",
    "        \"**Example Solutions:**\\n\"\n",
    "        \"---\\n\"\n",
    "        \"**Example 1:**\\n\"\n",
    "        \"**Problem:** Find the integral of x.\\n\\n\"\n",
    "        \"**Solution:**\\n\"\n",
    "        \"1️⃣ **Understanding the Problem:** We need to compute the indefinite integral of f(x) = x.\\n\"\n",
    "        \"2️⃣ **Relevant Concepts:** Use the power rule: ∫x^n dx = (x^(n+1))/(n+1) + C.\\n\"\n",
    "        \"3️⃣ **Step-by-Step Solution:**\\n\"\n",
    "        \"   - Recognize x as x^1.\\n\"\n",
    "        \"   - Apply the power rule: increase the exponent by 1, giving x², then divide by the new exponent.\\n\"\n",
    "        \"   - Add the constant of integration, C.\\n\"\n",
    "        \"4️⃣ **Final Answer:** (x²)/2 + C.\\n\"\n",
    "        \"5️⃣ **Verification & Insights:** Differentiating (x²)/2 gives x, confirming correctness.\\n\\n\"\n",
    "        \"---\\n\"\n",
    "        \"**Example 2:**\\n\"\n",
    "        \"**Problem:** A car accelerates from rest at 5 m/s². Find its velocity after 4 seconds.\\n\\n\"\n",
    "        \"**Solution:**\\n\"\n",
    "        \"1️⃣ **Understanding the Problem:** The car starts from rest and accelerates uniformly.\\n\"\n",
    "        \"2️⃣ **Relevant Concepts:** Use kinematic equation: v = u + at.\\n\"\n",
    "        \"3️⃣ **Step-by-Step Solution:**\\n\"\n",
    "        \"   - Given: u = 0 m/s, a = 5 m/s², t = 4 s.\\n\"\n",
    "        \"   - Apply formula: v = 0 + (5 × 4) = 20 m/s.\\n\"\n",
    "        \"4️⃣ **Final Answer:** v = 20 m/s.\\n\"\n",
    "        \"5️⃣ **Verification & Insights:** The result aligns with expected acceleration; using v² = u² + 2as also gives v = 20 m/s.\\n\\n\"\n",
    "        \"---\\n\\n\"\n",
    "\n",
    "        \"**Now, solve the following problem using this structured approach:**\\n\"\n",
    "        \"**Problem:** {problem}\\n\\n\"\n",
    "        \"**Solution:**\"\n",
    "    )\n",
    ")\n"
   ]
  },
  {
   "cell_type": "code",
   "execution_count": 46,
   "metadata": {},
   "outputs": [],
   "source": [
    "llm_chain4=LLMChain(llm=llm1,prompt=prompt_template)\n",
    "problem=\"what is the momentum explain\"\n",
    "response=llm_chain4.invoke({problem})"
   ]
  },
  {
   "cell_type": "code",
   "execution_count": 47,
   "metadata": {},
   "outputs": [
    {
     "name": "stdout",
     "output_type": "stream",
     "text": [
      "##  What is Momentum? \n",
      "\n",
      "**1. Understanding the Problem:**\n",
      "The problem asks for a definition and explanation of momentum in physics. \n",
      "\n",
      "**2. Relevant Concepts:**\n",
      "* **Momentum** is a fundamental concept in physics that describes the quantity of motion an object possesses. \n",
      "* It is directly proportional to an object's mass and velocity.\n",
      "* Mathematically, momentum (p) is calculated as:  \n",
      "   *  **p = m * v** \n",
      "   * where 'm' is the mass of the object and 'v' is its velocity.\n",
      "\n",
      "**3. Step-by-Step Solution:**\n",
      "\n",
      "* **Define Momentum:** Momentum is a measure of an object's tendency to continue moving in a straight line at a constant speed. \n",
      "* **Factors Affecting Momentum:** Momentum depends on two factors:\n",
      "    * **Mass:** A heavier object has more momentum than a lighter object moving at the same velocity.\n",
      "    * **Velocity:** An object moving faster has more momentum than the same object moving slower.\n",
      "* **Units:** Momentum is measured in kilogram meters per second (kg*m/s).\n",
      "\n",
      "**4. Final Answer:** Momentum (p) is defined as the product of an object's mass (m) and velocity (v):  p = m * v.\n",
      "\n",
      "**5. Explanation & Insights:**\n",
      "* **Intuition:** Imagine pushing a shopping cart. A full cart (more mass) is harder to get moving and harder to stop than an empty cart (less mass). This is because the full cart has more momentum. Similarly, a cart moving faster has more momentum.\n",
      "* **Conservation of Momentum:**  In a closed system (where no external forces act), the total momentum remains constant. This principle is crucial in understanding collisions and interactions between objects.\n",
      "\n",
      "\n",
      "\n",
      "Let me know if you have any other questions or would like more examples!\n",
      "\n"
     ]
    }
   ],
   "source": [
    "print(response['text'])"
   ]
  },
  {
   "cell_type": "code",
   "execution_count": null,
   "metadata": {},
   "outputs": [],
   "source": []
  }
 ],
 "metadata": {
  "kernelspec": {
   "display_name": "Python 3",
   "language": "python",
   "name": "python3"
  },
  "language_info": {
   "codemirror_mode": {
    "name": "ipython",
    "version": 3
   },
   "file_extension": ".py",
   "mimetype": "text/x-python",
   "name": "python",
   "nbconvert_exporter": "python",
   "pygments_lexer": "ipython3",
   "version": "3.10.0"
  }
 },
 "nbformat": 4,
 "nbformat_minor": 2
}
